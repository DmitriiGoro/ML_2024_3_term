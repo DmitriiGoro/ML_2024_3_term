{
  "cells": [
    {
      "cell_type": "markdown",
      "metadata": {
        "id": "view-in-github",
        "colab_type": "text"
      },
      "source": [
        "<a href=\"https://colab.research.google.com/github/DmitriiGoro/ML_2024_3_term/blob/master/LabWorks/lab02_part3_poetry_answer.ipynb\" target=\"_parent\"><img src=\"https://colab.research.google.com/assets/colab-badge.svg\" alt=\"Open In Colab\"/></a>"
      ]
    },
    {
      "cell_type": "markdown",
      "metadata": {
        "id": "WfYpZs8fAA6V"
      },
      "source": [
        "## Lab 2"
      ]
    },
    {
      "cell_type": "markdown",
      "metadata": {
        "id": "bnsu0JFjAA6V"
      },
      "source": [
        "### Part 3. Poetry generation\n",
        "\n",
        "Let's try to generate some poetry using RNNs.\n",
        "\n",
        "You have several choices here:\n",
        "\n",
        "* The Shakespeare sonnets, file `sonnets.txt` available in the notebook directory.\n",
        "\n",
        "* Роман в стихах \"Евгений Онегин\" Александра Сергеевича Пушкина. В предобработанном виде доступен по [ссылке](https://github.com/attatrol/data_sources/blob/master/onegin.txt).\n",
        "\n",
        "* Some other text source, if it will be approved by the course staff.\n",
        "\n",
        "Text generation can be designed in several steps:\n",
        "    \n",
        "1. Data loading.\n",
        "2. Dictionary generation.\n",
        "3. Data preprocessing.\n",
        "4. Model (neural network) training.\n",
        "5. Text generation (model evaluation).\n"
      ]
    },
    {
      "cell_type": "code",
      "execution_count": null,
      "metadata": {
        "id": "IK256gQJAA6W"
      },
      "outputs": [],
      "source": [
        "import string\n",
        "import os\n",
        "from sklearn.preprocessing import StandardScaler\n",
        "from sklearn.metrics import accuracy_score\n",
        "import torch\n",
        "from torch import nn\n",
        "import torch.nn.functional as F\n",
        "from torch.optim import Adam,RMSprop\n",
        "from torch.autograd import Variable\n",
        "import numpy as np\n",
        "from random import sample\n",
        "import pandas as pd\n",
        "import numpy as np\n",
        "import matplotlib.pyplot as plt\n",
        "from IPython.display import clear_output\n",
        "import matplotlib.pyplot as plt\n",
        "np.random.seed(0)"
      ]
    },
    {
      "cell_type": "markdown",
      "metadata": {
        "id": "syvSCKRGAA6W"
      },
      "source": [
        "### Data loading: Shakespeare"
      ]
    },
    {
      "cell_type": "markdown",
      "metadata": {
        "id": "2gWboMTzAA6X"
      },
      "source": [
        "Shakespeare sonnets are awailable at this [link](http://www.gutenberg.org/ebooks/1041?msg=welcome_stranger). In addition, they are stored in the same directory as this notebook (`sonnetes.txt`). Simple preprocessing is already done for you in the next cell: all technical info is dropped."
      ]
    },
    {
      "cell_type": "code",
      "execution_count": null,
      "metadata": {
        "collapsed": true,
        "id": "Y7jkMzvfAA6X"
      },
      "outputs": [],
      "source": [
        "if not os.path.exists('sonnets.txt'):\n",
        "    !wget https://raw.githubusercontent.com/girafe-ai/ml-course/22f_basic/homeworks_basic/lab02_deep_learning/sonnets.txt\n",
        "\n",
        "with open('sonnets.txt', 'r') as iofile:\n",
        "    text = iofile.readlines()\n",
        "\n",
        "TEXT_START = 45\n",
        "TEXT_END = -368\n",
        "text = text[TEXT_START : TEXT_END]\n",
        "assert len(text) == 2616"
      ]
    },
    {
      "cell_type": "markdown",
      "metadata": {
        "id": "b8vZRDZpAA6X"
      },
      "source": [
        "In opposite to the in-class practice, this time we want to predict complex text. Let's reduce the complexity of the task and lowercase all the symbols.\n",
        "\n",
        "Now variable `text` is a list of strings. Join all the strings into one and lowercase it."
      ]
    },
    {
      "cell_type": "code",
      "execution_count": null,
      "metadata": {
        "colab": {
          "base_uri": "https://localhost:8080/",
          "height": 216
        },
        "id": "LzHBGsakAA6X",
        "outputId": "9b93c6bf-3433-4515-b8eb-1d329ae3a4e7"
      },
      "outputs": [
        {
          "output_type": "error",
          "ename": "NameError",
          "evalue": "name 'text' is not defined",
          "traceback": [
            "\u001b[0;31m---------------------------------------------------------------------------\u001b[0m",
            "\u001b[0;31mNameError\u001b[0m                                 Traceback (most recent call last)",
            "\u001b[0;32m<ipython-input-4-617fd9bdee02>\u001b[0m in \u001b[0;36m<cell line: 5>\u001b[0;34m()\u001b[0m\n\u001b[1;32m      3\u001b[0m \u001b[0;34m\u001b[0m\u001b[0m\n\u001b[1;32m      4\u001b[0m \u001b[0;31m# Your great code here\u001b[0m\u001b[0;34m\u001b[0m\u001b[0;34m\u001b[0m\u001b[0m\n\u001b[0;32m----> 5\u001b[0;31m \u001b[0mtext\u001b[0m \u001b[0;34m=\u001b[0m \u001b[0;34m\"\"\u001b[0m\u001b[0;34m.\u001b[0m\u001b[0mjoin\u001b[0m\u001b[0;34m(\u001b[0m\u001b[0mtext\u001b[0m\u001b[0;34m)\u001b[0m\u001b[0;34m.\u001b[0m\u001b[0mlower\u001b[0m\u001b[0;34m(\u001b[0m\u001b[0;34m)\u001b[0m\u001b[0;34m\u001b[0m\u001b[0;34m\u001b[0m\u001b[0m\n\u001b[0m\u001b[1;32m      6\u001b[0m \u001b[0;34m\u001b[0m\u001b[0m\n\u001b[1;32m      7\u001b[0m \u001b[0mlen\u001b[0m\u001b[0;34m(\u001b[0m\u001b[0mtext\u001b[0m\u001b[0;34m)\u001b[0m\u001b[0;34m\u001b[0m\u001b[0;34m\u001b[0m\u001b[0m\n",
            "\u001b[0;31mNameError\u001b[0m: name 'text' is not defined"
          ]
        }
      ],
      "source": [
        "# Join all the strings into one and lowercase it\n",
        "# Put result into variable text.\n",
        "\n",
        "# Your great code here\n",
        "text = \"\".join(text).lower()\n",
        "\n",
        "len(text)\n",
        "\n",
        "# assert len(text) == 100225, 'Are you sure you have concatenated all the strings?'\n",
        "# assert not any([x in set(text) for x in string.ascii_uppercase]), 'Uppercase letters are present'\n",
        "# print('OK!')"
      ]
    },
    {
      "cell_type": "markdown",
      "metadata": {
        "id": "DkSfkOLQAA6Y"
      },
      "source": [
        "### Data loading: \"Евгений Онегин\"\n"
      ]
    },
    {
      "cell_type": "code",
      "execution_count": null,
      "metadata": {
        "id": "0b0SvR5jAA6Y",
        "colab": {
          "base_uri": "https://localhost:8080/"
        },
        "outputId": "ead52bed-1ada-4605-f047-e5ce782d56a6"
      },
      "outputs": [
        {
          "output_type": "stream",
          "name": "stdout",
          "text": [
            "--2024-12-17 09:54:17--  https://raw.githubusercontent.com/attatrol/data_sources/master/onegin.txt\n",
            "Resolving raw.githubusercontent.com (raw.githubusercontent.com)... 185.199.108.133, 185.199.109.133, 185.199.111.133, ...\n",
            "Connecting to raw.githubusercontent.com (raw.githubusercontent.com)|185.199.108.133|:443... connected.\n",
            "HTTP request sent, awaiting response... 200 OK\n",
            "Length: 262521 (256K) [text/plain]\n",
            "Saving to: ‘onegin.txt.14’\n",
            "\n",
            "\ronegin.txt.14         0%[                    ]       0  --.-KB/s               \ronegin.txt.14       100%[===================>] 256.37K  --.-KB/s    in 0.02s   \n",
            "\n",
            "2024-12-17 09:54:17 (11.2 MB/s) - ‘onegin.txt.14’ saved [262521/262521]\n",
            "\n"
          ]
        },
        {
          "output_type": "execute_result",
          "data": {
            "text/plain": [
              "158"
            ]
          },
          "metadata": {},
          "execution_count": 130
        }
      ],
      "source": [
        "!wget https://raw.githubusercontent.com/attatrol/data_sources/master/onegin.txt\n",
        "\n",
        "with open('onegin.txt', 'r') as iofile:\n",
        "    text = iofile.readlines()\n",
        "\n",
        "with open('onegin.txt') as input_file:\n",
        "    quotes = input_file.read()[:-1].split('\\n')\n",
        "    quotes = [' ' + line for line in quotes]\n",
        "\n",
        "\n",
        "text = [x.lower().replace('\\t\\t', '') for x in text]\n",
        "text = [x.lower().replace('\\n', '') for x in text]\n",
        "\n",
        "MAX_LENGTH = max(map(len, text))\n",
        "BATCH_SIZE = 1024\n",
        "MAX_LENGTH"
      ]
    },
    {
      "cell_type": "code",
      "source": [
        "text"
      ],
      "metadata": {
        "id": "TPjmEILy3B6D"
      },
      "execution_count": null,
      "outputs": []
    },
    {
      "cell_type": "markdown",
      "metadata": {
        "id": "kMSeq3uZAA6Y"
      },
      "source": [
        "In opposite to the in-class practice, this time we want to predict complex text. Let's reduce the complexity of the task and lowercase all the symbols.\n",
        "\n",
        "Now variable `text` is a list of strings. Join all the strings into one and lowercase it."
      ]
    },
    {
      "cell_type": "code",
      "execution_count": null,
      "metadata": {
        "id": "3nZmTPfcAA6Y"
      },
      "outputs": [],
      "source": [
        "# Join all the strings into one and lowercase it\n",
        "# Put result into variable text.\n",
        "\n",
        "# Your great code here\n",
        "# text = \"\".join(text).lower()\n",
        "splited_text = text.split(\"\\n\")"
      ]
    },
    {
      "cell_type": "markdown",
      "metadata": {
        "id": "Y3B7Fh_fAA6Y"
      },
      "source": [
        "Put all the characters, that you've seen in the text, into variable `tokens`."
      ]
    },
    {
      "cell_type": "code",
      "execution_count": null,
      "metadata": {
        "id": "x9s99iLzAA6Y"
      },
      "outputs": [],
      "source": [
        "tokens = sorted(set(\"\".join(text).lower()))"
      ]
    },
    {
      "cell_type": "code",
      "source": [
        "tokens"
      ],
      "metadata": {
        "id": "ohXyrUqIDQxa",
        "colab": {
          "base_uri": "https://localhost:8080/"
        },
        "collapsed": true,
        "outputId": "d8b8a9c1-88fa-4784-f371-7b5e50674044"
      },
      "execution_count": null,
      "outputs": [
        {
          "output_type": "execute_result",
          "data": {
            "text/plain": [
              "[' ',\n",
              " '!',\n",
              " '(',\n",
              " ')',\n",
              " ',',\n",
              " '-',\n",
              " '.',\n",
              " '5',\n",
              " '7',\n",
              " '8',\n",
              " '9',\n",
              " ':',\n",
              " ';',\n",
              " '?',\n",
              " '[',\n",
              " ']',\n",
              " '^',\n",
              " 'a',\n",
              " 'b',\n",
              " 'c',\n",
              " 'd',\n",
              " 'e',\n",
              " 'f',\n",
              " 'g',\n",
              " 'h',\n",
              " 'i',\n",
              " 'k',\n",
              " 'l',\n",
              " 'm',\n",
              " 'n',\n",
              " 'o',\n",
              " 'p',\n",
              " 'q',\n",
              " 'r',\n",
              " 's',\n",
              " 't',\n",
              " 'u',\n",
              " 'v',\n",
              " 'w',\n",
              " 'x',\n",
              " 'y',\n",
              " 'z',\n",
              " '«',\n",
              " '»',\n",
              " 'а',\n",
              " 'б',\n",
              " 'в',\n",
              " 'г',\n",
              " 'д',\n",
              " 'е',\n",
              " 'ж',\n",
              " 'з',\n",
              " 'и',\n",
              " 'й',\n",
              " 'к',\n",
              " 'л',\n",
              " 'м',\n",
              " 'н',\n",
              " 'о',\n",
              " 'п',\n",
              " 'р',\n",
              " 'с',\n",
              " 'т',\n",
              " 'у',\n",
              " 'ф',\n",
              " 'х',\n",
              " 'ц',\n",
              " 'ч',\n",
              " 'ш',\n",
              " 'щ',\n",
              " 'ъ',\n",
              " 'ы',\n",
              " 'ь',\n",
              " 'э',\n",
              " 'ю',\n",
              " 'я',\n",
              " 'ё',\n",
              " '–',\n",
              " '—',\n",
              " '’',\n",
              " '…',\n",
              " '€']"
            ]
          },
          "metadata": {},
          "execution_count": 133
        }
      ]
    },
    {
      "cell_type": "markdown",
      "metadata": {
        "id": "JK8rSAfjAA6Y"
      },
      "source": [
        "Create dictionary `token_to_idx = {<char>: <index>}` and dictionary `idx_to_token = {<index>: <char>}`"
      ]
    },
    {
      "cell_type": "code",
      "execution_count": null,
      "metadata": {
        "collapsed": true,
        "id": "W5bQI67lAA6Z",
        "colab": {
          "base_uri": "https://localhost:8080/"
        },
        "outputId": "4d289175-7410-4424-d1bf-3ec5856bfd71"
      },
      "outputs": [
        {
          "output_type": "execute_result",
          "data": {
            "text/plain": [
              "{' ': 0,\n",
              " '!': 1,\n",
              " '(': 2,\n",
              " ')': 3,\n",
              " ',': 4,\n",
              " '-': 5,\n",
              " '.': 6,\n",
              " '5': 7,\n",
              " '7': 8,\n",
              " '8': 9,\n",
              " '9': 10,\n",
              " ':': 11,\n",
              " ';': 12,\n",
              " '?': 13,\n",
              " '[': 14,\n",
              " ']': 15,\n",
              " '^': 16,\n",
              " 'a': 17,\n",
              " 'b': 18,\n",
              " 'c': 19,\n",
              " 'd': 20,\n",
              " 'e': 21,\n",
              " 'f': 22,\n",
              " 'g': 23,\n",
              " 'h': 24,\n",
              " 'i': 25,\n",
              " 'k': 26,\n",
              " 'l': 27,\n",
              " 'm': 28,\n",
              " 'n': 29,\n",
              " 'o': 30,\n",
              " 'p': 31,\n",
              " 'q': 32,\n",
              " 'r': 33,\n",
              " 's': 34,\n",
              " 't': 35,\n",
              " 'u': 36,\n",
              " 'v': 37,\n",
              " 'w': 38,\n",
              " 'x': 39,\n",
              " 'y': 40,\n",
              " 'z': 41,\n",
              " '«': 42,\n",
              " '»': 43,\n",
              " 'а': 44,\n",
              " 'б': 45,\n",
              " 'в': 46,\n",
              " 'г': 47,\n",
              " 'д': 48,\n",
              " 'е': 49,\n",
              " 'ж': 50,\n",
              " 'з': 51,\n",
              " 'и': 52,\n",
              " 'й': 53,\n",
              " 'к': 54,\n",
              " 'л': 55,\n",
              " 'м': 56,\n",
              " 'н': 57,\n",
              " 'о': 58,\n",
              " 'п': 59,\n",
              " 'р': 60,\n",
              " 'с': 61,\n",
              " 'т': 62,\n",
              " 'у': 63,\n",
              " 'ф': 64,\n",
              " 'х': 65,\n",
              " 'ц': 66,\n",
              " 'ч': 67,\n",
              " 'ш': 68,\n",
              " 'щ': 69,\n",
              " 'ъ': 70,\n",
              " 'ы': 71,\n",
              " 'ь': 72,\n",
              " 'э': 73,\n",
              " 'ю': 74,\n",
              " 'я': 75,\n",
              " 'ё': 76,\n",
              " '–': 77,\n",
              " '—': 78,\n",
              " '’': 79,\n",
              " '…': 80,\n",
              " '€': 81}"
            ]
          },
          "metadata": {},
          "execution_count": 134
        }
      ],
      "source": [
        "# dict <index>:<char>\n",
        "# Your great code here\n",
        "token_to_idx = {v: k for k, v in enumerate(tokens)}\n",
        "\n",
        "# dict <char>:<index>\n",
        "# Your great code here\n",
        "idx_to_token = {k: v for k, v in enumerate(tokens)}"
      ]
    },
    {
      "cell_type": "markdown",
      "metadata": {
        "id": "-aSpc6Z9AA6Z"
      },
      "source": [
        "*Comment: in this task we have only 38 different tokens, so let's use one-hot encoding.*"
      ]
    },
    {
      "cell_type": "markdown",
      "metadata": {
        "id": "TpivHFFYAA6Z"
      },
      "source": [
        "### Building the model"
      ]
    },
    {
      "cell_type": "markdown",
      "metadata": {
        "id": "WhiWWIJuAA6Z"
      },
      "source": [
        "Now we want to build and train recurrent neural net which would be able to something similar to Shakespeare's poetry.\n",
        "\n",
        "Let's use vanilla RNN, similar to the one created during the lesson."
      ]
    },
    {
      "cell_type": "code",
      "source": [
        "def to_matrix(data, token_to_id, max_len=None, dtype='int32', batch_first = True):\n",
        "    max_len = max_len or max(map(len, data))\n",
        "    data_ix = np.zeros([len(data), max_len], dtype) + token_to_id[' ']\n",
        "\n",
        "    for i in range(len(data)):\n",
        "        line_ix = [token_to_id[c] for c in data[i]]\n",
        "        data_ix[i, :len(line_ix)] = line_ix\n",
        "\n",
        "    if not batch_first:\n",
        "        data_ix = np.transpose(data_ix)\n",
        "\n",
        "    return data_ix"
      ],
      "metadata": {
        "id": "wrUShqwQ0NUv"
      },
      "execution_count": null,
      "outputs": []
    },
    {
      "cell_type": "code",
      "source": [
        "import torch\n",
        "\n",
        "device = torch.device(\"cuda:1\" if torch.cuda.is_available() else \"cpu\")"
      ],
      "metadata": {
        "id": "GnzDpB2Z0nKB"
      },
      "execution_count": null,
      "outputs": []
    },
    {
      "cell_type": "code",
      "source": [
        "num_tokens = len(tokens)"
      ],
      "metadata": {
        "id": "ulI0cj-hN1mB"
      },
      "execution_count": null,
      "outputs": []
    },
    {
      "cell_type": "code",
      "execution_count": null,
      "metadata": {
        "collapsed": true,
        "id": "FmMtZt9fAA6Z"
      },
      "outputs": [],
      "source": [
        "# Your code here\n",
        "class CharRNNCell(nn.Module):\n",
        "    def __init__(self, num_tokens=len(tokens), embedding_size=15, rnn_num_units=1024):\n",
        "        super(self.__class__,self).__init__()\n",
        "        self.num_units = rnn_num_units\n",
        "\n",
        "        self.embedding = nn.Embedding(num_tokens, embedding_size)\n",
        "        self.rnn_update = nn.Linear(embedding_size + rnn_num_units, rnn_num_units)\n",
        "        self.rnn_to_logits = nn.Linear(rnn_num_units, num_tokens)\n",
        "\n",
        "    def forward(self, x, h_prev):\n",
        "        x_emb = self.embedding(x)\n",
        "\n",
        "        x_and_h = torch.cat([x_emb, h_prev], dim=1)\n",
        "        h_next = self.rnn_update(x_and_h)\n",
        "        h_next = F.tanh(h_next)\n",
        "\n",
        "        assert h_next.size() == h_prev.size()\n",
        "\n",
        "        logits = self.rnn_to_logits(h_next)\n",
        "\n",
        "        return h_next, logits\n",
        "\n",
        "    def initial_state(self, batch_size):\n",
        "        return Variable(torch.zeros(batch_size, self.num_units))"
      ]
    },
    {
      "cell_type": "code",
      "source": [
        "def rnn_loop(rnn, batch_index):\n",
        "    batch_size, max_length = batch_index.size()\n",
        "    hid_state = rnn.initial_state(batch_size).to(device)\n",
        "    logprobs = []\n",
        "\n",
        "    for x_t in batch_index.transpose(0,1):\n",
        "        hid_state, logp_next = rnn(x_t, hid_state)\n",
        "        logprobs.append(logp_next)\n",
        "\n",
        "    return torch.stack(logprobs, dim=1)"
      ],
      "metadata": {
        "id": "qKqxmz6U1dSm"
      },
      "execution_count": null,
      "outputs": []
    },
    {
      "cell_type": "code",
      "source": [
        "device = torch.device(\"cuda\" if torch.cuda.is_available() else \"cpu\")\n",
        "char_rnn = CharRNNCell().to(device)\n",
        "opt = torch.optim.Adam(char_rnn.parameters())\n",
        "history = []\n",
        "loss_func = nn.CrossEntropyLoss()"
      ],
      "metadata": {
        "id": "Ht7Zmmun1hHk"
      },
      "execution_count": null,
      "outputs": []
    },
    {
      "cell_type": "code",
      "source": [
        "for i in range(1000):\n",
        "    batch_ix = to_matrix(sample(text, BATCH_SIZE), token_to_idx, max_len=MAX_LENGTH)\n",
        "    batch_ix = torch.tensor(batch_ix, dtype=torch.int64).to(device)\n",
        "\n",
        "    logp_seq = rnn_loop(char_rnn, batch_ix)\n",
        "\n",
        "    predictions_logp = logp_seq[:, :-1]\n",
        "    actual_next_tokens = batch_ix[:, 1:]\n",
        "\n",
        "    loss = loss_func(\n",
        "    predictions_logp.reshape((-1, num_tokens)),\n",
        "    actual_next_tokens.reshape(-1)\n",
        "    )\n",
        "    loss.backward()\n",
        "    opt.step()\n",
        "    opt.zero_grad()\n",
        "\n",
        "    history.append(loss.cpu().data.numpy())\n",
        "\n",
        "    if (i + 1) % 50 == 0:\n",
        "      clear_output(True)\n",
        "      plt.plot(history,label='loss')\n",
        "      plt.legend()\n",
        "      plt.show()"
      ],
      "metadata": {
        "colab": {
          "base_uri": "https://localhost:8080/",
          "height": 430
        },
        "id": "i6lm8B7Z1ndi",
        "outputId": "d32b9dfb-2277-47e8-ee48-855e7da29aa3"
      },
      "execution_count": null,
      "outputs": [
        {
          "output_type": "display_data",
          "data": {
            "text/plain": [
              "<Figure size 640x480 with 1 Axes>"
            ],
            "image/png": "[encoded data removed]"
          },
          "metadata": {}
        }
      ]
    },
    {
      "cell_type": "markdown",
      "metadata": {
        "id": "rop4OzYtAA6Z"
      },
      "source": [
        "Plot the loss function (axis X: number of epochs, axis Y: loss function)."
      ]
    },
    {
      "cell_type": "code",
      "execution_count": null,
      "metadata": {
        "id": "kDndi04BAA6Z"
      },
      "outputs": [],
      "source": [
        "def generate_sample(char_rnn, seed_phrase=' ', max_length=MAX_LENGTH, temperature=0.3):\n",
        "    x_sequence = [token_to_idx[token] for token in seed_phrase]\n",
        "    x_sequence = torch.tensor([x_sequence], dtype=torch.int64)\n",
        "    hid_state = char_rnn.initial_state(batch_size=1).to(device)\n",
        "\n",
        "    for i in range(len(seed_phrase) - 1):\n",
        "        hid_state, not_needed = char_rnn(x_sequence[:, i].to(device), hid_state)\n",
        "\n",
        "    for _ in range(max_length - len(seed_phrase)):\n",
        "        hid_state, logp_next = char_rnn(x_sequence[:, -1].to(device), hid_state)\n",
        "\n",
        "        p_next = F.softmax(logp_next / temperature, dim=-1).cpu().data.numpy()[0]\n",
        "        next_ix = np.random.choice(len(tokens), p=p_next)\n",
        "        next_ix = torch.tensor([[next_ix]], dtype=torch.int64)\n",
        "        x_sequence = torch.cat([x_sequence, next_ix], dim=1)\n",
        "\n",
        "    return ''.join([tokens[ix] for ix in x_sequence.data.numpy()[0]])"
      ]
    },
    {
      "cell_type": "code",
      "execution_count": null,
      "metadata": {
        "colab": {
          "base_uri": "https://localhost:8080/"
        },
        "id": "BGI9KjhOAA6Z",
        "outputId": "a4df45e9-eaf2-4dee-fd3c-585c922d7635"
      },
      "outputs": [
        {
          "output_type": "stream",
          "name": "stdout",
          "text": [
            " евгений перово                                                                                                                                               \n",
            " евгений сторит                                                                                                                                               \n",
            " евгений воровет                                                                                                                                              \n",
            " евгений столи стора                                                                                                                                          \n",
            " евгений стора                                                                                                                                                \n",
            " евгений не влего                                                                                                                                             \n",
            " евгений стогони                                                                                                                                              \n",
            " евгений стеро вне веру                                                                                                                                       \n",
            " евгений на прода                                                                                                                                             \n",
            " евгений нано на болень                                                                                                                                       \n"
          ]
        }
      ],
      "source": [
        "# # An example of generated text.\n",
        "for _ in range(10):\n",
        "    print(generate_sample(char_rnn, seed_phrase=' евгений ',temperature=0.2))"
      ]
    },
    {
      "cell_type": "code",
      "source": [
        "for _ in range(10):\n",
        "    print(generate_sample(char_rnn, seed_phrase=' евгений ',temperature=0.4))"
      ],
      "metadata": {
        "colab": {
          "base_uri": "https://localhost:8080/"
        },
        "id": "_dvwif3EFIar",
        "outputId": "067368c4-c803-480b-8d90-bc8f73d85e00"
      },
      "execution_count": null,
      "outputs": [
        {
          "output_type": "stream",
          "name": "stdout",
          "text": [
            " евгений простой стодит                                                                                                                                       \n",
            " евгений вониць вереть                                                                                                                                        \n",
            " евгений стростя не прито                                                                                                                                     \n",
            " евгений слегот перубка,                                                                                                                                      \n",
            " евгений стить новаль                                                                                                                                         \n",
            " евгений вере пороринь                                                                                                                                        \n",
            " евгений стаж ни стронный                                                                                                                                     \n",
            " евгений дорудить                                                                                                                                             \n",
            " евгений стего на остали                                                                                                                                      \n",
            " евгений прога, саредный                                                                                                                                      \n"
          ]
        }
      ]
    },
    {
      "cell_type": "code",
      "source": [
        "for _ in range(10):\n",
        "    print(generate_sample(char_rnn, seed_phrase=' евгений ',temperature=1))"
      ],
      "metadata": {
        "colab": {
          "base_uri": "https://localhost:8080/"
        },
        "id": "8nMXNbirFNrU",
        "outputId": "533e0c85-85d2-41e3-c58d-f8829425b7a9"
      },
      "execution_count": null,
      "outputs": [
        {
          "output_type": "stream",
          "name": "stdout",
          "text": [
            " евгений поссранной рачкат                                                                                                                                    \n",
            " евгений додсы пы ботет дуж.ю                                                                                                                                 \n",
            " евгений ивл вамь                                                                                                                                             \n",
            " евгений дочулу, змоздесла.                                                                                                                                   \n",
            " евгений вилнях хонско…                                                                                                                                       \n",
            " евгений стобкобы падры но срал, не недно                                                                                                                     \n",
            " евгений ворлонолицы                                                                                                                                          \n",
            " евгений бумалию бымянона                                                                                                                                     \n",
            " евгений вомшый, потлень;                                                                                                                                     \n",
            " евгений блистьам нап сотрась ох                                                                                                                              \n"
          ]
        }
      ]
    },
    {
      "cell_type": "markdown",
      "metadata": {
        "id": "MPyn-tRKAA6Z"
      },
      "source": [
        "### More poetic model\n",
        "\n",
        "Let's use LSTM instead of vanilla RNN and compare the results."
      ]
    },
    {
      "cell_type": "markdown",
      "metadata": {
        "id": "zA73XantAA6Z"
      },
      "source": [
        "Plot the loss function of the number of epochs. Does the final loss become better?"
      ]
    },
    {
      "cell_type": "code",
      "execution_count": null,
      "metadata": {
        "collapsed": true,
        "id": "74sEfaGPAA6Z"
      },
      "outputs": [],
      "source": [
        "# Your beautiful code here\n",
        "device = torch.device(\"cuda:0\" if torch.cuda.is_available() else \"cpu\")"
      ]
    },
    {
      "cell_type": "code",
      "source": [
        "class LSTMCell(nn.Module):\n",
        "    def __init__(self, num_tokens=len(tokens), embedding_size=15, lstm_num_units=1024):\n",
        "        super(self.__class__,self).__init__()\n",
        "        self.num_units = lstm_num_units\n",
        "\n",
        "        self.embedding = nn.Embedding(num_tokens, embedding_size)\n",
        "        self.fc1 = nn.Linear(embedding_size + lstm_num_units, lstm_num_units)\n",
        "        self.fc2 = nn.Linear(embedding_size + lstm_num_units, lstm_num_units)\n",
        "        self.fc3 = nn.Linear(embedding_size + lstm_num_units, lstm_num_units)\n",
        "        self.fc4 = nn.Linear(embedding_size + lstm_num_units, lstm_num_units)\n",
        "\n",
        "        self.lstm_to_logits = nn.Linear(lstm_num_units, num_tokens)\n",
        "    def forward(self, x, h_prev,c_prev):\n",
        "        x_emb = self.embedding(x)\n",
        "        x_and_h = torch.cat([x_emb, h_prev], dim=1)\n",
        "        f=F.sigmoid(self.fc1(x_and_h))\n",
        "        i=F.sigmoid(self.fc2(x_and_h))\n",
        "        c=F.tanh(self.fc3(x_and_h))\n",
        "        o=F.sigmoid(self.fc4(x_and_h))\n",
        "        c_next = c_prev*f+i*c\n",
        "        h_next = F.tanh(c_next)*o\n",
        "        logits = self.lstm_to_logits(h_next)\n",
        "\n",
        "        assert h_next.size() == h_prev.size()\n",
        "        assert c_next.size() == c_prev.size()\n",
        "\n",
        "        logits = self.lstm_to_logits(h_next)\n",
        "\n",
        "        return h_next,c_next, F.log_softmax(logits, -1)\n",
        "\n",
        "    def initial_state(self, batch_size):\n",
        "        return Variable(torch.zeros(batch_size, self.num_units,dtype=torch.float32)),Variable(torch.zeros(batch_size, self.num_units,dtype=torch.float32))"
      ],
      "metadata": {
        "id": "mtHrCKTr9gtP"
      },
      "execution_count": null,
      "outputs": []
    },
    {
      "cell_type": "markdown",
      "metadata": {
        "id": "6NIXpK-QAA6Z"
      },
      "source": [
        "Generate text using the trained net with different `temperature` parameter: `[0.1, 0.2, 0.5, 1.0, 2.0]`.\n",
        "\n",
        "Evaluate the results visually, try to interpret them."
      ]
    },
    {
      "cell_type": "code",
      "execution_count": null,
      "metadata": {
        "collapsed": true,
        "id": "PBmo0DDuAA6Z"
      },
      "outputs": [],
      "source": [
        "# Text generation with different temperature values here\n",
        "def lstm_loop(lstm, batch_index):\n",
        "    batch_size, max_length = batch_index.size()\n",
        "    hid_state,cell_state = lstm.initial_state(batch_size)\n",
        "    hid_state=hid_state.to(device)\n",
        "    cell_state=cell_state.to(device)\n",
        "    logprobs = []\n",
        "\n",
        "    for x_t in batch_index.transpose(0,1):\n",
        "        hid_state, cell_state, logp_next = lstm(x_t, hid_state, cell_state)\n",
        "        logprobs.append(logp_next)\n",
        "\n",
        "    return torch.stack(logprobs, dim=1)"
      ]
    },
    {
      "cell_type": "code",
      "source": [
        "char_lstm = LSTMCell().to(device)\n",
        "opt = torch.optim.Adam(char_lstm.parameters())\n",
        "history_lstm = []"
      ],
      "metadata": {
        "id": "17PQHpXe9nu2"
      },
      "execution_count": null,
      "outputs": []
    },
    {
      "cell_type": "code",
      "source": [
        "for i in range(1000):\n",
        "    batch_ix = to_matrix(sample(text, BATCH_SIZE), token_to_idx, max_len=MAX_LENGTH)\n",
        "    batch_ix = torch.tensor(batch_ix, dtype=torch.int64).to(device)\n",
        "\n",
        "    logp_seq = lstm_loop(char_lstm, batch_ix)\n",
        "\n",
        "    predictions_logp = logp_seq[:, :-1]\n",
        "    actual_next_tokens = batch_ix[:, 1:]\n",
        "\n",
        "    loss = -torch.mean(torch.gather(predictions_logp, dim=2, index=actual_next_tokens[:,:,None]))\n",
        "\n",
        "    loss.backward()\n",
        "    opt.step()\n",
        "    opt.zero_grad()\n",
        "\n",
        "    history_lstm.append(loss.cpu().data.numpy())\n",
        "\n",
        "    if (i + 1) % 50 == 0:\n",
        "      clear_output(True)\n",
        "      plt.plot(history_lstm,label='loss')\n",
        "      plt.legend()\n",
        "      plt.show()"
      ],
      "metadata": {
        "colab": {
          "base_uri": "https://localhost:8080/",
          "height": 430
        },
        "id": "mxZy9Il09rnv",
        "outputId": "c12dba26-3567-422f-ad1f-8dc6ae7da426"
      },
      "execution_count": null,
      "outputs": [
        {
          "output_type": "display_data",
          "data": {
            "text/plain": [
              "<Figure size 640x480 with 1 Axes>"
            ],
            "image/png": "[encoded data removed]"
          },
          "metadata": {}
        }
      ]
    },
    {
      "cell_type": "code",
      "source": [
        "def generate_sample_lstm(char_rnn, seed_phrase=' ', max_length=MAX_LENGTH, temperature=0.3):\n",
        "    x_sequence = [token_to_idx[token] for token in seed_phrase]\n",
        "    x_sequence = torch.tensor([x_sequence], dtype=torch.int64)\n",
        "    hid_state, cell_state = char_rnn.initial_state(batch_size=1)\n",
        "    hid_state=hid_state.to(device)\n",
        "    cell_state=cell_state.to(device)\n",
        "    for i in range(len(seed_phrase) - 1):\n",
        "        hid_state,cell_state, _ = char_rnn(x_sequence[:, i].to(device), hid_state, cell_state)\n",
        "\n",
        "    for _ in range(max_length - len(seed_phrase)):\n",
        "        hid_state, cell_state,logp_next = char_rnn(x_sequence[:, -1].to(device), hid_state, cell_state)\n",
        "        p_next = F.softmax(logp_next / temperature, dim=-1).cpu().data.numpy()[0]\n",
        "\n",
        "        next_ix = np.random.choice(len(tokens), p=p_next)\n",
        "        next_ix = torch.tensor([[next_ix]], dtype=torch.int64)\n",
        "        x_sequence = torch.cat([x_sequence, next_ix], dim=1)\n",
        "\n",
        "    return ''.join([tokens[ix] for ix in x_sequence.cpu().data.numpy()[0]])"
      ],
      "metadata": {
        "id": "HZ4HhSOO9whK"
      },
      "execution_count": null,
      "outputs": []
    },
    {
      "cell_type": "code",
      "source": [
        "for _ in range(10):\n",
        "    print(generate_sample_lstm(char_lstm,seed_phrase=' евгений ',temperature=0.4))"
      ],
      "metadata": {
        "colab": {
          "base_uri": "https://localhost:8080/"
        },
        "id": "UsMO5cegx_8f",
        "outputId": "52e2f884-8336-482e-aa37-920263c450bd"
      },
      "execution_count": null,
      "outputs": [
        {
          "output_type": "stream",
          "name": "stdout",
          "text": [
            " евгений сено пета                                                                                                                                            \n",
            " евгений вола сто нав                                                                                                                                         \n",
            " евгений толета смари,                                                                                                                                        \n",
            " евгений дет влой варона,                                                                                                                                     \n",
            " евгений но сте деный,                                                                                                                                        \n",
            " евгений сетилы                                                                                                                                               \n",
            " евгений на мони ветрый                                                                                                                                       \n",
            " евгений вона воретой                                                                                                                                         \n",
            " евгений воти ссенала                                                                                                                                         \n",
            " евгений нен поло скомом                                                                                                                                      \n"
          ]
        }
      ]
    },
    {
      "cell_type": "code",
      "source": [
        "for _ in range(10):\n",
        "    print(generate_sample_lstm(char_lstm,seed_phrase=' евгений ',temperature=0.1))"
      ],
      "metadata": {
        "colab": {
          "base_uri": "https://localhost:8080/"
        },
        "id": "Nwvs-UgWLgi0",
        "outputId": "cfa7c93c-f121-4e88-f430-abb059a51ab1"
      },
      "execution_count": null,
      "outputs": [
        {
          "output_type": "stream",
          "name": "stdout",
          "text": [
            " евгений порет ворой                                                                                                                                          \n",
            " евгений сто порала                                                                                                                                           \n",
            " евгений сто порала                                                                                                                                           \n",
            " евгений сто пором                                                                                                                                            \n",
            " евгений поро порала                                                                                                                                          \n",
            " евгений пола стора                                                                                                                                           \n",
            " евгений порет орада                                                                                                                                          \n",
            " евгений поросто                                                                                                                                              \n",
            " евгений пора стора                                                                                                                                           \n",
            " евгений породо поралет                                                                                                                                       \n"
          ]
        }
      ]
    },
    {
      "cell_type": "code",
      "source": [
        "for _ in range(10):\n",
        "    print(generate_sample_lstm(char_lstm,seed_phrase=' евгений ',temperature=1.5))"
      ],
      "metadata": {
        "colab": {
          "base_uri": "https://localhost:8080/"
        },
        "id": "ADXfi1C2Ljkq",
        "outputId": "aeacb91e-110f-4ced-fbb0-67fe0d51b5fb"
      },
      "execution_count": null,
      "outputs": [
        {
          "output_type": "stream",
          "name": "stdout",
          "text": [
            " евгений влатьйхьымя     на ,                                                           m                                                                     \n",
            " евгений мччондт шу,кхнуснаж) онру,g«ий,                 –    р                                                                                               \n",
            " евгений лагжкае пувеё, о c                                                                                                                                   \n",
            " евгений гдррокгй роксы?нея ,                                                                       р                                                         \n",
            " евгений стайаз брией с раtприт, о  т    x                                                                                                                    \n",
            " евгений ановлоюст  илeзвроо,                                                                                                                                 \n",
            " евгений юта дудриц; з     »                                                                     (                                                            \n",
            " евгений : тогlлапкчуггъы—лца?.                                                                                               i                               \n",
            " евгений чугедкуек астлив!                                                                                                             л                      \n",
            " евгений пнр жишус, ш«ои tконоюг.з, o                                                                                                                         \n"
          ]
        }
      ]
    },
    {
      "cell_type": "markdown",
      "metadata": {
        "id": "xmq7j1uVAA6Z"
      },
      "source": [
        "### Saving and loading models"
      ]
    },
    {
      "cell_type": "markdown",
      "metadata": {
        "id": "NbTDXkCBAA6Z"
      },
      "source": [
        "Save the model to the disk, then load it and generate text. Examples are available [here](https://pytorch.org/tutorials/beginner/saving_loading_models.html])."
      ]
    },
    {
      "cell_type": "code",
      "execution_count": null,
      "metadata": {
        "collapsed": true,
        "id": "LeApoGp2AA6Z"
      },
      "outputs": [],
      "source": [
        "# Saving and loading code here\n",
        "torch.save(char_rnn.state_dict(), \"rnn.pt\")\n",
        "torch.save(char_lstm.state_dict(), \"lstm.pt\")"
      ]
    },
    {
      "cell_type": "markdown",
      "metadata": {
        "id": "PC61Jrb0AA6Z"
      },
      "source": [
        "### References\n",
        "1. <a href='http://karpathy.github.io/2015/05/21/rnn-effectiveness/'> Andrew Karpathy blog post about RNN. </a>\n",
        "There are several examples of genration: Shakespeare texts, Latex formulas, Linux Sourse Code and children names.\n",
        "2. <a href='https://github.com/karpathy/char-rnn'> Repo with char-rnn code </a>\n",
        "3. Cool repo with PyTorch examples: [link](https://github.com/spro/practical-pytorch`)"
      ]
    }
  ],
  "metadata": {
    "anaconda-cloud": {},
    "kernelspec": {
      "display_name": "Python 3",
      "name": "python3"
    },
    "language_info": {
      "codemirror_mode": {
        "name": "ipython",
        "version": 3
      },
      "file_extension": ".py",
      "mimetype": "text/x-python",
      "name": "python",
      "nbconvert_exporter": "python",
      "pygments_lexer": "ipython3",
      "version": "3.7.7"
    },
    "colab": {
      "provenance": [],
      "gpuType": "T4",
      "include_colab_link": true
    },
    "accelerator": "GPU"
  },
  "nbformat": 4,
  "nbformat_minor": 0
}