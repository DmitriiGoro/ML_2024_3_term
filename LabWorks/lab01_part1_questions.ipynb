{
  "cells": [
    {
      "cell_type": "markdown",
      "metadata": {
        "id": "view-in-github",
        "colab_type": "text"
      },
      "source": [
        "<a href=\"https://colab.research.google.com/github/DmitriiGoro/ML_2024_3_term/blob/master/LabWorks/lab01_part1_questions.ipynb\" target=\"_parent\"><img src=\"https://colab.research.google.com/assets/colab-badge.svg\" alt=\"Open In Colab\"/></a>"
      ]
    },
    {
      "cell_type": "markdown",
      "metadata": {
        "id": "muZUR9L_OF-q"
      },
      "source": [
        "*Credits: materials from this notebook belong to YSDA [Practical DL](https://github.com/yandexdataschool/Practical_DL) course. Special thanks for making them available online.*"
      ]
    },
    {
      "cell_type": "markdown",
      "metadata": {
        "id": "TF2WiBBXOF-r"
      },
      "source": [
        "# Lab assignment №1, part 1\n",
        "\n",
        "This lab assignment consists of several parts. You are supposed to make some transformations, train some models, estimate the quality of the models and explain your results.\n",
        "\n",
        "Several comments:\n",
        "* Don't hesitate to ask questions, it's a good practice.\n",
        "* No private/public sharing, please. The copied assignments will be graded with 0 points.\n",
        "* Blocks of this lab will be graded separately."
      ]
    },
    {
      "cell_type": "markdown",
      "metadata": {
        "id": "HQbHPhflOF-s"
      },
      "source": [
        "## 1. Matrix differentiation"
      ]
    },
    {
      "cell_type": "markdown",
      "metadata": {
        "id": "TParnLruOF-s"
      },
      "source": [
        "Since it easy to google every task please please please try to undestand what's going on. The \"just answer\" thing will be not counted, make sure to present derivation of your solution. It is absolutely OK if you found an answer on web then just exercise in $\\LaTeX$ copying it into here."
      ]
    },
    {
      "cell_type": "markdown",
      "metadata": {
        "id": "jD4eKFIDOF-s"
      },
      "source": [
        "Useful links:\n",
        "[1](http://www.machinelearning.ru/wiki/images/2/2a/Matrix-Gauss.pdf)\n",
        "[2](http://www.atmos.washington.edu/~dennis/MatrixCalculus.pdf)"
      ]
    },
    {
      "cell_type": "markdown",
      "metadata": {
        "id": "VfMc57bAOF-s"
      },
      "source": [
        "## ex. 1"
      ]
    },
    {
      "cell_type": "markdown",
      "metadata": {
        "id": "VYjVqEi4OF-s"
      },
      "source": [
        "$$  \n",
        "y = x^Tx,  \\quad x \\in \\mathbb{R}^N\n",
        "$$"
      ]
    },
    {
      "cell_type": "markdown",
      "metadata": {
        "id": "XBhgbeSWOF-s"
      },
      "source": [
        "$$\n",
        "\\frac{dy}{dx} = \\sum_{i=1}^{n}x_{i}^2dx_{i}=\\sum_{i=1}^{n}2x_{i}\\Rightarrow 2x,\\ x\\in R^n\n",
        "$$"
      ]
    },
    {
      "cell_type": "code",
      "execution_count": null,
      "metadata": {
        "collapsed": true,
        "jupyter": {
          "outputs_hidden": true
        },
        "id": "SElvVT6YOF-s"
      },
      "outputs": [],
      "source": []
    },
    {
      "cell_type": "markdown",
      "metadata": {
        "id": "Vmv2NqgFOF-t"
      },
      "source": [
        "## ex. 2"
      ]
    },
    {
      "cell_type": "markdown",
      "metadata": {
        "id": "TSasmDkzOF-t"
      },
      "source": [
        "$$ y = tr(AB) \\quad A,B \\in \\mathbb{R}^{N \\times N} $$"
      ]
    },
    {
      "cell_type": "markdown",
      "metadata": {
        "id": "arqrUws8OF-t"
      },
      "source": [
        "$$\n",
        "tr(AB)=tr(BA)=\\lt B^T,A\\gt\n",
        "$$\n",
        "\\\n",
        "$$\n",
        "dy=d\\lt B^T,A\\gt=\\lt dB^T,A\\gt+\\lt B^T,dA\\gt=\n",
        "\\lt B^T,dA\\gt\n",
        "$$\n",
        "$$\n",
        "according\\ to\\ definition\\ df(x)=\\lt \\nabla f(x),dx\\gt\n",
        "$$\n",
        "\\\n",
        "$$\n",
        "\\frac{dy}{dA} = B^T\n",
        "$$"
      ]
    },
    {
      "cell_type": "code",
      "execution_count": null,
      "metadata": {
        "collapsed": true,
        "jupyter": {
          "outputs_hidden": true
        },
        "id": "ml0Plw4MOF-t"
      },
      "outputs": [],
      "source": []
    },
    {
      "cell_type": "markdown",
      "metadata": {
        "id": "bU6eeViPOF-t"
      },
      "source": [
        "## ex. 3"
      ]
    },
    {
      "cell_type": "markdown",
      "metadata": {
        "id": "3leqJXMtOF-t"
      },
      "source": [
        "$$  \n",
        "y = x^TAc , \\quad A\\in \\mathbb{R}^{N \\times N}, x\\in \\mathbb{R}^{N}, c\\in \\mathbb{R}^{N}\n",
        "$$"
      ]
    },
    {
      "cell_type": "markdown",
      "metadata": {
        "id": "b4lGChodOF-t"
      },
      "source": [
        "$$\n",
        "y=\\lt x, Ac\\gt\n",
        "$$\n",
        "\n",
        "$$\n",
        "\\frac{dy}{dx} =d\\lt x,Ac\\gt =\\lt dx,Ac\\gt+\\lt x, dAc\\gt=\\lt Ac,dx\\gt =Ac\n",
        "$$"
      ]
    },
    {
      "cell_type": "markdown",
      "metadata": {
        "id": "7zpYZy1OOF-t"
      },
      "source": [
        "$$\n",
        "\\frac{dy}{dA} = d\\lt x,Ac\\gt =\\lt dx,Ac\\gt+\\lt x, dAc\\gt=\\lt xc^T, dA \\gt = xc^T\n",
        "$$"
      ]
    },
    {
      "cell_type": "markdown",
      "metadata": {
        "id": "k940oSObOF-t"
      },
      "source": [
        "Hint for the latter (one of the ways): use *ex. 2* result and the fact\n",
        "$$\n",
        "tr(ABC) = tr (CAB)\n",
        "$$"
      ]
    },
    {
      "cell_type": "code",
      "execution_count": null,
      "metadata": {
        "collapsed": true,
        "jupyter": {
          "outputs_hidden": true
        },
        "id": "xlYXeLKwOF-t"
      },
      "outputs": [],
      "source": []
    },
    {
      "cell_type": "markdown",
      "metadata": {
        "id": "3WdWt9oLOF-t"
      },
      "source": [
        "## ex. 4"
      ]
    },
    {
      "cell_type": "markdown",
      "metadata": {
        "id": "D3Jqu2TgOF-t"
      },
      "source": [
        "Classic matrix factorization example. Given matrix $X$ you need to find $A$, $S$ to approximate $X$. This can be done by simple gradient descent iteratively alternating $A$ and $S$ updates.\n",
        "$$\n",
        "J = || X - AS ||_F^2  , \\quad A\\in \\mathbb{R}^{N \\times R} , \\quad S\\in \\mathbb{R}^{R \\times M}\n",
        "$$\n",
        "Since\n",
        "$$\n",
        "|| X ||_F^2 = tr(XX^T)\n",
        "$$\n",
        "\n",
        "$$\n",
        "|| X - AS ||_F^2=tr((X-AS)(X-AS)^T)=\\lt (X-AS)^T,(X-AS)^T\\gt=\\lt X^T, X^T\\gt-\\lt X^T, S^TA^T \\gt-\\lt S^TA^T,X^T \\gt + \\lt S^TA^T,S^TA^T \\gt ,\n",
        "$$\n",
        "\n",
        "$$\n",
        "d(\\lt X^T, X^T\\gt-\\lt X^T, S^TA^T \\gt-\\lt S^TA^T,X^T \\gt + \\lt S^TA^T,S^TA^T \\gt)=\\\\\n",
        "-2d\\lt X^T, S^TA^T \\gt+d\\lt S^TA^T,S^TA^T \\gt=\\\\\n",
        "-2\\lt X^T, dS^TA^T \\gt+2\\lt S^TA^T,dS^TA^T \\gt=\n",
        "$$\n",
        "\n",
        "$$\n",
        "-2\\lt X^TA, dS^T \\gt+2\\lt S^TA^TA,dS^T \\gt=\\\\\\lt 2(A^TAS-A^TX),dS\\gt=\\lt2A^T(AS-X),dS \\gt\n",
        "$$\n",
        "\n",
        "$$\n",
        "\\frac{dJ}{dS} = 2(A^TAS-A^TX)\n",
        "$$\n",
        "\n",
        "You may use one of the following approaches:"
      ]
    },
    {
      "cell_type": "markdown",
      "metadata": {
        "id": "yNAvad2HOF-t"
      },
      "source": [
        "#### First approach\n",
        "Using ex.2 and the fact:\n",
        "$$\n",
        "|| X ||_F^2 = tr(XX^T)\n",
        "$$\n",
        "it is easy to derive gradients (you can find it in one of the refs)."
      ]
    },
    {
      "cell_type": "markdown",
      "metadata": {
        "id": "hcdReJLQOF-t"
      },
      "source": [
        "#### Second approach\n",
        "You can use *slightly different techniques* if they suits you. Take a look at this derivation:\n",
        "<img src=\"grad.png\">\n",
        "(excerpt from [Handbook of blind source separation, Jutten, page 517](https://books.google.ru/books?id=PTbj03bYH6kC&printsec=frontcover&dq=Handbook+of+Blind+Source+Separation&hl=en&sa=X&ved=0ahUKEwi-q_apiJDLAhULvXIKHVXJDWcQ6AEIHDAA#v=onepage&q=Handbook%20of%20Blind%20Source%20Separation&f=false), open for better picture)."
      ]
    },
    {
      "cell_type": "markdown",
      "metadata": {
        "id": "KrktbgeZOF-t"
      },
      "source": [
        "#### Third approach\n",
        "And finally we can use chain rule!\n",
        "let $ F = AS $\n",
        "\n",
        "**Find**\n",
        "$$\n",
        "\\frac{dJ}{dF} =  \n",
        "$$\n",
        "and\n",
        "$$\n",
        "\\frac{dF}{dS} =  \n",
        "$$\n",
        "(the shape should be $ NM \\times RM )$.\n",
        "\n",
        "Now it is easy do get desired gradients:\n",
        "\n",
        "$$\n",
        "\\frac{dJ}{dS} = 2(A^TAS-A^TX)\n",
        "$$"
      ]
    },
    {
      "cell_type": "markdown",
      "metadata": {
        "collapsed": true,
        "jupyter": {
          "outputs_hidden": true
        },
        "id": "ARR6mq7_OF-t"
      },
      "source": [
        "## 2. kNN questions\n",
        "Here come the questions from the assignment0_01. Please, refer to the assignment0_01 to get the context of the questions."
      ]
    },
    {
      "cell_type": "markdown",
      "metadata": {
        "id": "HewY6AHrOF-t"
      },
      "source": [
        "### Question 1\n",
        "\n",
        "Notice the structured patterns in the distance matrix, where some rows or columns are visible brighter. (Note that with the default color scheme black indicates low distances while white indicates high distances.)\n",
        "\n",
        "- What in the data is the cause behind the distinctly bright rows?\n",
        "- What causes the columns?\n",
        "\n",
        "*Your Answer:*\n",
        "- i-th bright row shows that i-th test example is far from all train examples\n",
        "\n",
        "- j-th bright column shows that j-th train example is far from test example\n",
        "\n"
      ]
    },
    {
      "cell_type": "markdown",
      "metadata": {
        "id": "GTRBjOhbOF-u"
      },
      "source": [
        "### Question 2\n",
        "\n",
        "We can also use other distance metrics such as L1 distance.\n",
        "For pixel values $p_{ij}^{(k)}$ at location $(i,j)$ of some image $I_k$,\n",
        "\n",
        "the mean $\\mu$ across all pixels over all images is $$\\mu=\\frac{1}{nhw}\\sum_{k=1}^n\\sum_{i=1}^{h}\\sum_{j=1}^{w}p_{ij}^{(k)}$$\n",
        "And the pixel-wise mean $\\mu_{ij}$ across all images is\n",
        "$$\\mu_{ij}=\\frac{1}{n}\\sum_{k=1}^np_{ij}^{(k)}.$$\n",
        "The general standard deviation $\\sigma$ and pixel-wise standard deviation $\\sigma_{ij}$ is defined similarly.\n",
        "\n",
        "Which of the following preprocessing steps will not change the performance of a Nearest Neighbor classifier that uses L1 distance? Select all that apply.\n",
        "1. Subtracting the mean $\\mu$ ($\\tilde{p}_{ij}^{(k)}=p_{ij}^{(k)}-\\mu$.)\n",
        "2. Subtracting the per pixel mean $\\mu_{ij}$  ($\\tilde{p}_{ij}^{(k)}=p_{ij}^{(k)}-\\mu_{ij}$.)\n",
        "3. Subtracting the mean $\\mu$ and dividing by the standard deviation $\\sigma$.\n",
        "4. Subtracting the pixel-wise mean $\\mu_{ij}$ and dividing by the pixel-wise standard deviation $\\sigma_{ij}$.\n",
        "5. Rotating the coordinate axes of the data.\n",
        "\n",
        "*Your Answer:*\n",
        "1. Subtracting the mean μ: This operation shifts all pixel values uniformly across the entire dataset. Since L1 distance is based on absolute differences, this shift does not affect the relative distances between points. (Will not change performance)\n",
        "\n",
        "2. Subtracting the per pixel mean μij: This operation normalizes each pixel independently, centering each pixel's values around zero. Similar to the previous case, this does not affect the relative distances between points because it maintains the structure of the data. (Will not change performance)\n",
        "\n",
        "3. Subtracting the mean μ and dividing by the standard deviation σ: This step standardizes the data, scaling it to have unit variance. While this operation changes the scale of the data, it does not affect the relative distances in a way that would change the nearest neighbors when using L1 distance. (Will not change performance)\n",
        "\n",
        "4. Subtracting the pixel-wise mean μij and dividing by the pixel-wise standard deviation σij: This operation also standardizes each pixel independently. Like the previous case, it changes the scale but maintains relative distances. (Will not change performance)\n",
        "\n",
        "5. Rotating the coordinate axes of the data will not change perfomance as well. L1 distance is not changed in this case because absolute difference of two coordinates is not affected by rotating.\n",
        "\n"
      ]
    },
    {
      "cell_type": "markdown",
      "metadata": {
        "id": "hJt89QNPOF-u"
      },
      "source": [
        "## Question 3\n",
        "\n",
        "Which of the following statements about $k$-Nearest Neighbor ($k$-NN) are true in a classification setting, and for all $k$? Select all that apply.\n",
        "1. The decision boundary (hyperplane between classes in feature space) of the k-NN classifier is linear.\n",
        "2. The training error of a 1-NN will always be lower than that of 5-NN.\n",
        "3. The test error of a 1-NN will always be lower than that of a 5-NN.\n",
        "4. The time needed to classify a test example with the k-NN classifier grows with the size of the training set.\n",
        "5. None of the above.\n",
        "\n",
        "*Your Answer:*\n",
        "1. False\n",
        "2. False\n",
        "3. False\n",
        "4. True\n",
        "\n",
        "\n",
        "*Your Explanation:*\n",
        "1. Imagine some dense region of positive points. The decision boundary to classify test instances around those points will look like a curve - not a hyperplane.\n",
        "2. If nearest neighbour has wrong class then identification is always false\n",
        "3. If a model is not enough fitted we will always have false identification  when other colored point is the nearest.  \n",
        "4. Computational complexity is O(N**2)\n",
        "\n",
        "(извините, ответы те же, что и в домашке)\n",
        "\n",
        "\n"
      ]
    }
  ],
  "metadata": {
    "kernelspec": {
      "display_name": "mipt",
      "language": "python",
      "name": "mipt"
    },
    "language_info": {
      "codemirror_mode": {
        "name": "ipython",
        "version": 3
      },
      "file_extension": ".py",
      "mimetype": "text/x-python",
      "name": "python",
      "nbconvert_exporter": "python",
      "pygments_lexer": "ipython3",
      "version": "3.9.5"
    },
    "colab": {
      "provenance": [],
      "include_colab_link": true
    }
  },
  "nbformat": 4,
  "nbformat_minor": 0
}